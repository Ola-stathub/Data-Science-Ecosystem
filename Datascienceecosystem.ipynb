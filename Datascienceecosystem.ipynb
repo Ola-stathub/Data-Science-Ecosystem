{
 "cells": [
  {
   "cell_type": "markdown",
   "id": "4d3d36ac-8895-420d-a38d-42b5b4520029",
   "metadata": {},
   "source": [
    "# Data Science Tools and Ecosystem"
   ]
  },
  {
   "cell_type": "markdown",
   "id": "6bd70f44-e9fb-45ae-a0f3-fa4bd3e3e6b9",
   "metadata": {},
   "source": [
    "In this notebook, Data Science Tools and Ecosystem are summarized."
   ]
  },
  {
   "cell_type": "markdown",
   "id": "d30d50b1-b42f-490d-a2bf-de43dbaf3010",
   "metadata": {},
   "source": [
    "## Objectives"
   ]
  },
  {
   "cell_type": "markdown",
   "id": "61a471e8-3f85-4037-a790-099de58e5335",
   "metadata": {},
   "source": [
    "* List some popular data science langauges\n",
    "* List some commonly use data science libraries\n",
    "* List some tools in different categories of data science\n",
    "* Give examples of some evaluation metrics used in data science\n",
    "* Perform some basic arithmetic operations with python"
   ]
  },
  {
   "cell_type": "markdown",
   "id": "fc329dd5-9d4a-4d8e-95eb-c4bcdb4ec841",
   "metadata": {},
   "source": [
    "## Author"
   ]
  },
  {
   "cell_type": "markdown",
   "id": "b989ec45-a79f-4fc8-8321-8c6cd0646b16",
   "metadata": {},
   "source": [
    "### Oladele Bidemi Ajayi"
   ]
  },
  {
   "cell_type": "markdown",
   "id": "26e4c726-6c2c-45c9-adf8-5bb7bdb29169",
   "metadata": {},
   "source": [
    "Some of the popular languages that Data Scientists use are:\n",
    "1. Python\n",
    "2. R\n",
    "3. Java\n",
    "4. Scala\n",
    "5. C++"
   ]
  },
  {
   "cell_type": "markdown",
   "id": "aa4cb351-ed0d-449a-baa7-f42c33f4cace",
   "metadata": {},
   "source": [
    "Some of the commonly used libraries used by Data Scientists include:\n",
    "1. Pandas\n",
    "2. Numpy\n",
    "3. Scikit-learn\n",
    "4. Tensorflow\n",
    "5. PyTorch"
   ]
  },
  {
   "cell_type": "markdown",
   "id": "256f9345-37fa-40ef-8025-adb8df78154c",
   "metadata": {},
   "source": [
    "Data Science tools\n",
    "| Category                             |    Tool |\n",
    "| -------------------------------------|------------------------------------------\n",
    "| Data integration and transformation  |    Apache airflow, Kubeflow, Apache Kafka |\n",
    "| Data Management                      |    MySQL, MongoDB, Cassandra |\n",
    "| Visualization                        |    Hue, PixieDust, Kibana |\n",
    "| Model Deployment                     |    Mleap, Apache Prediction IO |\n",
    "| Code Asset Management                |    Git, Github |\n",
    "| Data Asset Management                |    ApacheAtlas, Kylo |\n",
    "| Model Monitoring and assesment       |    ModelDB, Prometheous |"
   ]
  },
  {
   "cell_type": "markdown",
   "id": "762efeff-addf-482a-9f6c-150f479dcbc6",
   "metadata": {},
   "source": [
    "Below are a few examples of evaluating arithmetic expressions in Python\n",
    "1. 2*2\n",
    "2. 3+5\n",
    "3. 2+2-1"
   ]
  },
  {
   "cell_type": "code",
   "execution_count": 2,
   "id": "e52a3726-a7dd-4c46-9eaa-bd960ed91a72",
   "metadata": {},
   "outputs": [
    {
     "data": {
      "text/plain": [
       "17"
      ]
     },
     "execution_count": 2,
     "metadata": {},
     "output_type": "execute_result"
    }
   ],
   "source": [
    "#This a simple arithmetic expression to mutiply then add integers\n",
    "(3*4)+5"
   ]
  },
  {
   "cell_type": "code",
   "execution_count": 4,
   "id": "9ae25bee-a854-421b-bb97-68151a8ac1b4",
   "metadata": {},
   "outputs": [
    {
     "data": {
      "text/plain": [
       "3.3333333333333335"
      ]
     },
     "execution_count": 4,
     "metadata": {},
     "output_type": "execute_result"
    }
   ],
   "source": [
    "#This will convert 200 minutes to hours by diving by 60\n",
    "200/60"
   ]
  }
 ],
 "metadata": {
  "kernelspec": {
   "display_name": "Python 3 (ipykernel)",
   "language": "python",
   "name": "python3"
  },
  "language_info": {
   "codemirror_mode": {
    "name": "ipython",
    "version": 3
   },
   "file_extension": ".py",
   "mimetype": "text/x-python",
   "name": "python",
   "nbconvert_exporter": "python",
   "pygments_lexer": "ipython3",
   "version": "3.11.7"
  }
 },
 "nbformat": 4,
 "nbformat_minor": 5
}
